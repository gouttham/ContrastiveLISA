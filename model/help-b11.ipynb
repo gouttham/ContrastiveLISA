{
 "cells": [
  {
   "cell_type": "code",
   "execution_count": 1,
   "id": "e9f2680d-6182-481e-8c4c-56039685b3b1",
   "metadata": {},
   "outputs": [
    {
     "name": "stderr",
     "output_type": "stream",
     "text": [
      "/lustre06/project/6061175/gna23/LISA2/lisa_env/lib/python3.8/site-packages/tqdm/auto.py:22: TqdmWarning: IProgress not found. Please update jupyter and ipywidgets. See https://ipywidgets.readthedocs.io/en/stable/user_install.html\n",
      "  from .autonotebook import tqdm as notebook_tqdm\n",
      "/lustre06/project/6061175/gna23/LISA4/model/attention_utils.py:130: SyntaxWarning: \"is\" with a literal. Did you mean \"==\"?\n",
      "  if with_pos is 'learned':\n",
      "/lustre06/project/6061175/gna23/LISA4/model/attention_utils.py:169: SyntaxWarning: \"is\" with a literal. Did you mean \"==\"?\n",
      "  if self.pool_mode is 'max':\n",
      "/lustre06/project/6061175/gna23/LISA4/model/attention_utils.py:171: SyntaxWarning: \"is\" with a literal. Did you mean \"==\"?\n",
      "  elif self.pool_mode is 'ave':\n"
     ]
    }
   ],
   "source": [
    "import torch\n",
    "from attention_utils import BASE_Transformer as cross_attention"
   ]
  },
  {
   "cell_type": "code",
   "execution_count": 2,
   "id": "abf6f848-f029-48a0-ac7e-dd4c514cfee8",
   "metadata": {},
   "outputs": [],
   "source": [
    "\n",
    "att = cross_attention(input_nc=3, output_nc=2, token_len=4, resnet_stages_num=4,\n",
    "                             with_pos='learned', enc_depth=1, dec_depth=8, decoder_dim_head=8)\n"
   ]
  },
  {
   "cell_type": "code",
   "execution_count": 3,
   "id": "ac27fdc7-8c72-496c-97a4-4d96ffbc32f5",
   "metadata": {},
   "outputs": [],
   "source": [
    "img1 = torch.rand((4, 256, 64, 64))\n",
    "img2 = torch.rand((4, 256, 64, 64))"
   ]
  },
  {
   "cell_type": "code",
   "execution_count": null,
   "id": "9b54e127-708d-4478-b1fe-412ae8b298f0",
   "metadata": {},
   "outputs": [],
   "source": []
  },
  {
   "cell_type": "code",
   "execution_count": 4,
   "id": "86ae5f2e-da9e-43a2-b3fb-53ea5cdf7f6a",
   "metadata": {},
   "outputs": [],
   "source": [
    "# wt = torch.load('../mbin/best_ckpt_b2mod.pt')\n",
    "# att.load_state_dict(wt,strict=True)"
   ]
  },
  {
   "cell_type": "code",
   "execution_count": 12,
   "id": "96ced47c-28ca-4416-871c-01bd360eb8a7",
   "metadata": {},
   "outputs": [],
   "source": [
    "torch.save(att.state_dict(),\"../mbin/best_ckpt_b1_mod.pt\")"
   ]
  },
  {
   "cell_type": "code",
   "execution_count": 6,
   "id": "e0120c7a-e2a1-4c68-8c95-28f74f838086",
   "metadata": {},
   "outputs": [],
   "source": [
    "oo = att.forward(img1,img2)"
   ]
  },
  {
   "cell_type": "code",
   "execution_count": 7,
   "id": "01bba1f2-8345-4dc5-ac0a-54f9cc60e0c8",
   "metadata": {},
   "outputs": [
    {
     "name": "stdout",
     "output_type": "stream",
     "text": [
      "torch.Size([4, 256, 64, 64])\n"
     ]
    }
   ],
   "source": [
    "print(oo.shape)\n"
   ]
  },
  {
   "cell_type": "code",
   "execution_count": 8,
   "id": "3f6ece5b-3411-4436-81a0-d236a12da897",
   "metadata": {},
   "outputs": [
    {
     "data": {
      "text/plain": [
       "tensor(4.7521, grad_fn=<MaxBackward1>)"
      ]
     },
     "execution_count": 8,
     "metadata": {},
     "output_type": "execute_result"
    }
   ],
   "source": [
    "torch.max(oo[0])"
   ]
  },
  {
   "cell_type": "code",
   "execution_count": 9,
   "id": "d96d2fdb-9eb5-4e30-a0fb-cc3726fa87cf",
   "metadata": {},
   "outputs": [
    {
     "data": {
      "text/plain": [
       "tensor(-5.1274, grad_fn=<MinBackward1>)"
      ]
     },
     "execution_count": 9,
     "metadata": {},
     "output_type": "execute_result"
    }
   ],
   "source": [
    "torch.min(oo[0])"
   ]
  },
  {
   "cell_type": "code",
   "execution_count": 10,
   "id": "90200fda-3473-4311-aee7-40c8fdc707b6",
   "metadata": {},
   "outputs": [
    {
     "data": {
      "text/plain": [
       "tensor(4.5885, grad_fn=<MaxBackward1>)"
      ]
     },
     "execution_count": 10,
     "metadata": {},
     "output_type": "execute_result"
    }
   ],
   "source": [
    "torch.max(oo[1])"
   ]
  },
  {
   "cell_type": "code",
   "execution_count": 11,
   "id": "4fb76f9c-acb2-49fe-9432-d19c9cae5c92",
   "metadata": {},
   "outputs": [
    {
     "data": {
      "text/plain": [
       "tensor(-5.0366, grad_fn=<MinBackward1>)"
      ]
     },
     "execution_count": 11,
     "metadata": {},
     "output_type": "execute_result"
    }
   ],
   "source": [
    "torch.min(oo[1])"
   ]
  },
  {
   "cell_type": "code",
   "execution_count": null,
   "id": "cd5d08d4-1449-4fd3-adfd-80069eea5d8a",
   "metadata": {},
   "outputs": [],
   "source": []
  },
  {
   "cell_type": "code",
   "execution_count": null,
   "id": "9264e630-8968-46f2-9f38-de197bd6511b",
   "metadata": {},
   "outputs": [],
   "source": []
  }
 ],
 "metadata": {
  "kernelspec": {
   "display_name": "lisa",
   "language": "python",
   "name": "lisa"
  },
  "language_info": {
   "codemirror_mode": {
    "name": "ipython",
    "version": 3
   },
   "file_extension": ".py",
   "mimetype": "text/x-python",
   "name": "python",
   "nbconvert_exporter": "python",
   "pygments_lexer": "ipython3",
   "version": "3.8.10"
  }
 },
 "nbformat": 4,
 "nbformat_minor": 5
}
