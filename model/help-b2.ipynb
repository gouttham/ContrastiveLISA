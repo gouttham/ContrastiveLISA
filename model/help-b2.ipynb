{
 "cells": [
  {
   "cell_type": "code",
   "execution_count": 1,
   "id": "e9f2680d-6182-481e-8c4c-56039685b3b1",
   "metadata": {},
   "outputs": [
    {
     "name": "stderr",
     "output_type": "stream",
     "text": [
      "/lustre06/project/6061175/gna23/LISA2/lisa_env/lib/python3.8/site-packages/tqdm/auto.py:22: TqdmWarning: IProgress not found. Please update jupyter and ipywidgets. See https://ipywidgets.readthedocs.io/en/stable/user_install.html\n",
      "  from .autonotebook import tqdm as notebook_tqdm\n",
      "/lustre06/project/6061175/gna23/LISA4/model/models_bit/networks.py:273: SyntaxWarning: \"is\" with a literal. Did you mean \"==\"?\n",
      "  if with_pos is 'learned':\n",
      "/lustre06/project/6061175/gna23/LISA4/model/models_bit/networks.py:355: SyntaxWarning: \"is\" with a literal. Did you mean \"==\"?\n",
      "  if self.pool_mode is 'max':\n",
      "/lustre06/project/6061175/gna23/LISA4/model/models_bit/networks.py:357: SyntaxWarning: \"is\" with a literal. Did you mean \"==\"?\n",
      "  elif self.pool_mode is 'ave':\n"
     ]
    }
   ],
   "source": [
    "import torch\n",
    "from models_bit import networks"
   ]
  },
  {
   "cell_type": "code",
   "execution_count": 2,
   "id": "ac27fdc7-8c72-496c-97a4-4d96ffbc32f5",
   "metadata": {},
   "outputs": [],
   "source": [
    "img1 = torch.rand((2,3,1024,1024))\n",
    "img2 = torch.rand((2,3,1024,1024))"
   ]
  },
  {
   "cell_type": "code",
   "execution_count": null,
   "id": "9b54e127-708d-4478-b1fe-412ae8b298f0",
   "metadata": {},
   "outputs": [],
   "source": []
  },
  {
   "cell_type": "code",
   "execution_count": 3,
   "id": "54a90b06-1d13-4b7e-9c6a-a9d26024171e",
   "metadata": {},
   "outputs": [],
   "source": [
    "att = networks.BASE_Transformer(input_nc=3, output_nc=2, token_len=4, resnet_stages_num=4,\n",
    "                             with_pos='learned', enc_depth=1, dec_depth=8, decoder_dim_head=8)"
   ]
  },
  {
   "cell_type": "code",
   "execution_count": 13,
   "id": "86ae5f2e-da9e-43a2-b3fb-53ea5cdf7f6a",
   "metadata": {},
   "outputs": [
    {
     "data": {
      "text/plain": [
       "<All keys matched successfully>"
      ]
     },
     "execution_count": 13,
     "metadata": {},
     "output_type": "execute_result"
    }
   ],
   "source": [
    "wt = torch.load('../mbin/best_ckpt_b2_mod.pt')\n",
    "att.load_state_dict(wt,strict=True)"
   ]
  },
  {
   "cell_type": "code",
   "execution_count": 12,
   "id": "96ced47c-28ca-4416-871c-01bd360eb8a7",
   "metadata": {},
   "outputs": [],
   "source": [
    "torch.save(att.state_dict(),\"../mbin/best_ckpt_b2_mod.pt\")"
   ]
  },
  {
   "cell_type": "code",
   "execution_count": 6,
   "id": "e0120c7a-e2a1-4c68-8c95-28f74f838086",
   "metadata": {},
   "outputs": [
    {
     "name": "stdout",
     "output_type": "stream",
     "text": [
      "torch.Size([2, 32, 256, 256])\n",
      "torch.Size([2, 3, 1024, 1024])\n"
     ]
    }
   ],
   "source": [
    "oo = att.forward(img1,img2)"
   ]
  },
  {
   "cell_type": "code",
   "execution_count": 7,
   "id": "01bba1f2-8345-4dc5-ac0a-54f9cc60e0c8",
   "metadata": {},
   "outputs": [
    {
     "name": "stdout",
     "output_type": "stream",
     "text": [
      "torch.Size([2, 3, 1024, 1024])\n",
      "torch.Size([2, 3, 224, 224])\n"
     ]
    }
   ],
   "source": [
    "print(oo[0].shape)\n",
    "print(oo[1].shape)"
   ]
  },
  {
   "cell_type": "code",
   "execution_count": 16,
   "id": "5a588236-4d68-4406-8a27-44fd55c35bc7",
   "metadata": {},
   "outputs": [
    {
     "data": {
      "text/plain": [
       "3.922393321990967"
      ]
     },
     "execution_count": 16,
     "metadata": {},
     "output_type": "execute_result"
    }
   ],
   "source": []
  },
  {
   "cell_type": "code",
   "execution_count": null,
   "id": "03c6aee2-14a3-4364-9b8e-7226b2665ce8",
   "metadata": {},
   "outputs": [],
   "source": []
  },
  {
   "cell_type": "code",
   "execution_count": 8,
   "id": "3f6ece5b-3411-4436-81a0-d236a12da897",
   "metadata": {},
   "outputs": [
    {
     "data": {
      "text/plain": [
       "tensor(4.5788, grad_fn=<MaxBackward1>)"
      ]
     },
     "execution_count": 8,
     "metadata": {},
     "output_type": "execute_result"
    }
   ],
   "source": [
    "torch.max(oo[0])"
   ]
  },
  {
   "cell_type": "code",
   "execution_count": 9,
   "id": "d96d2fdb-9eb5-4e30-a0fb-cc3726fa87cf",
   "metadata": {},
   "outputs": [
    {
     "data": {
      "text/plain": [
       "tensor(-3.9274, grad_fn=<MinBackward1>)"
      ]
     },
     "execution_count": 9,
     "metadata": {},
     "output_type": "execute_result"
    }
   ],
   "source": [
    "torch.min(oo[0])"
   ]
  },
  {
   "cell_type": "code",
   "execution_count": 10,
   "id": "90200fda-3473-4311-aee7-40c8fdc707b6",
   "metadata": {},
   "outputs": [
    {
     "data": {
      "text/plain": [
       "tensor(4.0812, grad_fn=<MaxBackward1>)"
      ]
     },
     "execution_count": 10,
     "metadata": {},
     "output_type": "execute_result"
    }
   ],
   "source": [
    "torch.max(oo[1])"
   ]
  },
  {
   "cell_type": "code",
   "execution_count": 11,
   "id": "4fb76f9c-acb2-49fe-9432-d19c9cae5c92",
   "metadata": {},
   "outputs": [
    {
     "data": {
      "text/plain": [
       "tensor(-4.2691, grad_fn=<MinBackward1>)"
      ]
     },
     "execution_count": 11,
     "metadata": {},
     "output_type": "execute_result"
    }
   ],
   "source": [
    "torch.min(oo[1])"
   ]
  },
  {
   "cell_type": "code",
   "execution_count": 87,
   "id": "3e148178-ca75-4af1-8fbe-829c9ae2256e",
   "metadata": {},
   "outputs": [],
   "source": [
    "import torch.nn as nn\n",
    "\n",
    "class mod(nn.Module):\n",
    "    def __init__(self):\n",
    "        super(mod, self).__init__()\n",
    "\n",
    "        self.f2_conv_1 = nn.Sequential(\n",
    "                nn.Conv2d(32, 16, kernel_size=3, stride=2), \n",
    "                nn.BatchNorm2d(16),                                     \n",
    "                nn.Tanh(),)\n",
    "        self.f2_conv_2 = nn.Sequential(\n",
    "                nn.Conv2d(16, 8, kernel_size=3, stride=2), \n",
    "                nn.BatchNorm2d(8),                                     \n",
    "                nn.Tanh(),)\n",
    "        self.f2_conv_3 = nn.Sequential(\n",
    "                nn.Conv2d(8, 3, kernel_size=3, stride=1), \n",
    "                nn.BatchNorm2d(3),                                     \n",
    "                nn.Tanh(),)\n",
    "        self.f2_conv_4 = nn.Sequential(\n",
    "                nn.Conv2d(3, 3, kernel_size=3, stride=1), \n",
    "                nn.BatchNorm2d(3),                                     \n",
    "                )\n",
    "            \n",
    "    def forward(self,x):\n",
    "        x = self.f2_conv_1(x)\n",
    "        x = x[:,:,5:-5, 5:-5]\n",
    "        x = self.f2_conv_2(x)\n",
    "        x = x[:,:,5:-5, 5:-5]\n",
    "        x = self.f2_conv_3(x)\n",
    "        x = x[:,:,6:-6, 6:-6]\n",
    "        x = self.f2_conv_4(x)\n",
    "        return x\n",
    "tt = mod()"
   ]
  },
  {
   "cell_type": "code",
   "execution_count": 88,
   "id": "5e290df6-2b38-4480-98e6-4a41abe833a6",
   "metadata": {},
   "outputs": [
    {
     "data": {
      "text/plain": [
       "torch.Size([2, 3, 224, 224])"
      ]
     },
     "execution_count": 88,
     "metadata": {},
     "output_type": "execute_result"
    }
   ],
   "source": [
    "imgtt = torch.rand((2, 32, 1024, 1024))\n",
    "tt.forward(imgtt).shape"
   ]
  },
  {
   "cell_type": "code",
   "execution_count": null,
   "id": "2bdae017-1ee9-47e7-92e3-f9ec75d00d0f",
   "metadata": {},
   "outputs": [],
   "source": [
    "]"
   ]
  }
 ],
 "metadata": {
  "kernelspec": {
   "display_name": "lisa",
   "language": "python",
   "name": "lisa"
  },
  "language_info": {
   "codemirror_mode": {
    "name": "ipython",
    "version": 3
   },
   "file_extension": ".py",
   "mimetype": "text/x-python",
   "name": "python",
   "nbconvert_exporter": "python",
   "pygments_lexer": "ipython3",
   "version": "3.8.10"
  }
 },
 "nbformat": 4,
 "nbformat_minor": 5
}
