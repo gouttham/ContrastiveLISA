{
 "cells": [
  {
   "cell_type": "code",
   "execution_count": 11,
   "id": "e9f2680d-6182-481e-8c4c-56039685b3b1",
   "metadata": {},
   "outputs": [],
   "source": [
    "import torch\n",
    "from attention_utils_dahi import cross_attention"
   ]
  },
  {
   "cell_type": "code",
   "execution_count": 12,
   "id": "abf6f848-f029-48a0-ac7e-dd4c514cfee8",
   "metadata": {},
   "outputs": [],
   "source": [
    "att = cross_attention().cuda()"
   ]
  },
  {
   "cell_type": "code",
   "execution_count": 13,
   "id": "ac27fdc7-8c72-496c-97a4-4d96ffbc32f5",
   "metadata": {},
   "outputs": [],
   "source": [
    "img1 = torch.rand((4, 256, 64, 64)).cuda()\n",
    "img2 = torch.rand((4, 256, 64, 64)).cuda()"
   ]
  },
  {
   "cell_type": "code",
   "execution_count": null,
   "id": "9b54e127-708d-4478-b1fe-412ae8b298f0",
   "metadata": {},
   "outputs": [],
   "source": []
  },
  {
   "cell_type": "code",
   "execution_count": 24,
   "id": "86ae5f2e-da9e-43a2-b3fb-53ea5cdf7f6a",
   "metadata": {},
   "outputs": [
    {
     "data": {
      "text/plain": [
       "<All keys matched successfully>"
      ]
     },
     "execution_count": 24,
     "metadata": {},
     "output_type": "execute_result"
    }
   ],
   "source": [
    "wt = torch.load('../mbin/cross_attn_dahi.pt')\n",
    "att.load_state_dict(wt,strict=True)"
   ]
  },
  {
   "cell_type": "code",
   "execution_count": 23,
   "id": "96ced47c-28ca-4416-871c-01bd360eb8a7",
   "metadata": {},
   "outputs": [],
   "source": [
    "# torch.save(att.state_dict(),\"../mbin/cross_attn_dahi.pt\")"
   ]
  },
  {
   "cell_type": "code",
   "execution_count": 16,
   "id": "e0120c7a-e2a1-4c68-8c95-28f74f838086",
   "metadata": {},
   "outputs": [],
   "source": [
    "oo = att.forward(img1,img2)"
   ]
  },
  {
   "cell_type": "code",
   "execution_count": 17,
   "id": "eeb4b5ca-821c-4f9b-97a4-45c556565f8d",
   "metadata": {},
   "outputs": [
    {
     "data": {
      "text/plain": [
       "torch.Size([4, 256, 64, 64])"
      ]
     },
     "execution_count": 17,
     "metadata": {},
     "output_type": "execute_result"
    }
   ],
   "source": [
    "oo.shape"
   ]
  },
  {
   "cell_type": "code",
   "execution_count": 8,
   "id": "cd875630-a411-4fdc-bde5-9e5b17de42f8",
   "metadata": {},
   "outputs": [
    {
     "name": "stdout",
     "output_type": "stream",
     "text": [
      "torch.Size([4, 256, 64, 64])\n"
     ]
    }
   ],
   "source": [
    "target_tensor = torch.ones(oo.shape).cuda()\n",
    "print(target_tensor.shape)"
   ]
  },
  {
   "cell_type": "code",
   "execution_count": 9,
   "id": "5e150383-568f-44cd-a990-5e855a86ceae",
   "metadata": {},
   "outputs": [
    {
     "name": "stdout",
     "output_type": "stream",
     "text": [
      "tensor(1.9999, device='cuda:0', grad_fn=<MseLossBackward0>)\n"
     ]
    }
   ],
   "source": [
    "loss = torch.nn.functional.mse_loss(oo, target_tensor)\n",
    "print(loss)"
   ]
  },
  {
   "cell_type": "code",
   "execution_count": 10,
   "id": "85952394-54af-4c8b-8d4e-7e580fc649d9",
   "metadata": {},
   "outputs": [],
   "source": [
    "loss.backward()"
   ]
  },
  {
   "cell_type": "code",
   "execution_count": null,
   "id": "ae9fcc83-18d5-41ce-b8f1-b1d2201d106b",
   "metadata": {},
   "outputs": [],
   "source": []
  },
  {
   "cell_type": "code",
   "execution_count": null,
   "id": "226440a5-e959-454e-877d-e8e087c75abc",
   "metadata": {},
   "outputs": [],
   "source": []
  },
  {
   "cell_type": "code",
   "execution_count": null,
   "id": "5df248b7-f6d5-4d4d-8b04-958aeec94a02",
   "metadata": {},
   "outputs": [],
   "source": []
  },
  {
   "cell_type": "code",
   "execution_count": null,
   "id": "88332c47-1344-4b55-ada9-c0288d258529",
   "metadata": {},
   "outputs": [],
   "source": []
  },
  {
   "cell_type": "code",
   "execution_count": 18,
   "id": "01bba1f2-8345-4dc5-ac0a-54f9cc60e0c8",
   "metadata": {},
   "outputs": [
    {
     "name": "stdout",
     "output_type": "stream",
     "text": [
      "torch.Size([4, 256, 64, 64])\n"
     ]
    }
   ],
   "source": [
    "print(oo.shape)\n"
   ]
  },
  {
   "cell_type": "code",
   "execution_count": 19,
   "id": "3f6ece5b-3411-4436-81a0-d236a12da897",
   "metadata": {},
   "outputs": [
    {
     "data": {
      "text/plain": [
       "tensor(4.7938, device='cuda:0', grad_fn=<MaxBackward1>)"
      ]
     },
     "execution_count": 19,
     "metadata": {},
     "output_type": "execute_result"
    }
   ],
   "source": [
    "torch.max(oo[0])"
   ]
  },
  {
   "cell_type": "code",
   "execution_count": 20,
   "id": "d96d2fdb-9eb5-4e30-a0fb-cc3726fa87cf",
   "metadata": {},
   "outputs": [
    {
     "data": {
      "text/plain": [
       "tensor(-4.6083, device='cuda:0', grad_fn=<MinBackward1>)"
      ]
     },
     "execution_count": 20,
     "metadata": {},
     "output_type": "execute_result"
    }
   ],
   "source": [
    "torch.min(oo[0])"
   ]
  },
  {
   "cell_type": "code",
   "execution_count": 21,
   "id": "90200fda-3473-4311-aee7-40c8fdc707b6",
   "metadata": {},
   "outputs": [
    {
     "data": {
      "text/plain": [
       "tensor(4.8837, device='cuda:0', grad_fn=<MaxBackward1>)"
      ]
     },
     "execution_count": 21,
     "metadata": {},
     "output_type": "execute_result"
    }
   ],
   "source": [
    "torch.max(oo[1])"
   ]
  },
  {
   "cell_type": "code",
   "execution_count": 22,
   "id": "4fb76f9c-acb2-49fe-9432-d19c9cae5c92",
   "metadata": {},
   "outputs": [
    {
     "data": {
      "text/plain": [
       "tensor(-4.6360, device='cuda:0', grad_fn=<MinBackward1>)"
      ]
     },
     "execution_count": 22,
     "metadata": {},
     "output_type": "execute_result"
    }
   ],
   "source": [
    "torch.min(oo[1])"
   ]
  },
  {
   "cell_type": "code",
   "execution_count": 13,
   "id": "cd5d08d4-1449-4fd3-adfd-80069eea5d8a",
   "metadata": {},
   "outputs": [],
   "source": [
    "from attention_utils_dahi import cross_attention\n",
    "import torch"
   ]
  },
  {
   "cell_type": "code",
   "execution_count": 14,
   "id": "c8a8f673-3e1c-484d-a3d2-7a8b1c7802e1",
   "metadata": {},
   "outputs": [],
   "source": [
    "cross_attn = cross_attention()"
   ]
  },
  {
   "cell_type": "code",
   "execution_count": 15,
   "id": "e0f7964d-4527-445b-b8fb-ffaf8ccfbc3b",
   "metadata": {},
   "outputs": [],
   "source": [
    "wt = torch.load('../mbin/cross_attn_dahi.pt')"
   ]
  },
  {
   "cell_type": "code",
   "execution_count": 16,
   "id": "c9a2941d-acd5-49c9-b9f0-3965586192d9",
   "metadata": {
    "scrolled": true
   },
   "outputs": [
    {
     "data": {
      "text/plain": [
       "<All keys matched successfully>"
      ]
     },
     "execution_count": 16,
     "metadata": {},
     "output_type": "execute_result"
    }
   ],
   "source": [
    "cross_attn.load_state_dict(wt)"
   ]
  },
  {
   "cell_type": "code",
   "execution_count": null,
   "id": "51109a4f-47ee-41fa-bff0-b574e7c33f9b",
   "metadata": {},
   "outputs": [],
   "source": []
  }
 ],
 "metadata": {
  "kernelspec": {
   "display_name": "lisa",
   "language": "python",
   "name": "lisa"
  },
  "language_info": {
   "codemirror_mode": {
    "name": "ipython",
    "version": 3
   },
   "file_extension": ".py",
   "mimetype": "text/x-python",
   "name": "python",
   "nbconvert_exporter": "python",
   "pygments_lexer": "ipython3",
   "version": "3.8.10"
  }
 },
 "nbformat": 4,
 "nbformat_minor": 5
}
